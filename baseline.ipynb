{
 "cells": [
  {
   "cell_type": "markdown",
   "id": "bbdf7b79",
   "metadata": {},
   "source": [
    "# Loading data & Time conversion"
   ]
  },
  {
   "cell_type": "code",
   "execution_count": 1,
   "id": "594a578f",
   "metadata": {},
   "outputs": [
    {
     "data": {
      "application/vnd.microsoft.datawrangler.viewer.v0+json": {
       "columns": [
        {
         "name": "index",
         "rawType": "int64",
         "type": "integer"
        },
        {
         "name": "ID",
         "rawType": "int64",
         "type": "integer"
        },
        {
         "name": "Activity Type ID",
         "rawType": "int64",
         "type": "integer"
        },
        {
         "name": "Activity Type",
         "rawType": "object",
         "type": "string"
        },
        {
         "name": "Started",
         "rawType": "datetime64[ns, UTC+09:00]",
         "type": "unknown"
        },
        {
         "name": "Finished",
         "rawType": "datetime64[ns, UTC+09:00]",
         "type": "unknown"
        },
        {
         "name": "Updated",
         "rawType": "datetime64[ns, UTC+09:00]",
         "type": "unknown"
        },
        {
         "name": "Subject",
         "rawType": "object",
         "type": "string"
        }
       ],
       "ref": "cee778b5-b4eb-4582-b80d-4243f37ff33c",
       "rows": [
        [
         "0",
         "1130251",
         "2806",
         "1 (FACING camera) Sit and stand",
         "2024-09-02 06:16:00+09:00",
         "2024-09-02 06:16:00+09:00",
         "2024-09-02 06:16:00+09:00",
         "U22"
        ],
        [
         "1",
         "1130254",
         "2807",
         "2 (FACING camera) both hands SHAKING (sitting position)",
         "2024-09-02 06:17:00+09:00",
         "2024-09-02 06:17:00+09:00",
         "2024-09-02 06:17:00+09:00",
         "U22"
        ],
        [
         "2",
         "1130257",
         "2807",
         "2 (FACING camera) both hands SHAKING (sitting position)",
         "2024-09-02 06:18:00+09:00",
         "2024-09-02 06:18:00+09:00",
         "2024-09-02 06:18:00+09:00",
         "U22"
        ],
        [
         "3",
         "1130261",
         "2806",
         "1 (FACING camera) Sit and stand",
         "2024-09-02 06:20:00+09:00",
         "2024-09-02 06:20:00+09:00",
         "2024-09-02 06:20:00+09:00",
         "U22"
        ],
        [
         "4",
         "1130292",
         "2806",
         "1 (FACING camera) Sit and stand",
         "2024-09-02 06:42:00+09:00",
         "2024-09-02 06:42:00+09:00",
         "2024-09-02 06:42:00+09:00",
         "U2"
        ],
        [
         "5",
         "1130293",
         "2807",
         "2 (FACING camera) both hands SHAKING (sitting position)",
         "2024-09-02 06:42:00+09:00",
         "2024-09-02 06:42:00+09:00",
         "2024-09-02 06:42:00+09:00",
         "U2"
        ],
        [
         "6",
         "1130294",
         "2808",
         "3 Stand up from chair - both hands with SHAKING",
         "2024-09-02 06:42:00+09:00",
         "2024-09-02 06:42:00+09:00",
         "2024-09-02 06:42:00+09:00",
         "U2"
        ],
        [
         "7",
         "1130306",
         "2806",
         "1 (FACING camera) Sit and stand",
         "2024-09-02 06:44:00+09:00",
         "2024-09-02 06:44:00+09:00",
         "2024-09-02 06:44:00+09:00",
         "U1"
        ],
        [
         "8",
         "1136872",
         "2806",
         "1 (FACING camera) Sit and stand",
         "2024-09-03 19:56:00+09:00",
         "2024-09-03 19:56:00+09:00",
         "2024-09-03 19:56:00+09:00",
         "U22"
        ],
        [
         "9",
         "1136878",
         "2807",
         "2 (FACING camera) both hands SHAKING (sitting position)",
         "2024-09-03 19:56:00+09:00",
         "2024-09-03 19:57:00+09:00",
         "2024-09-03 19:57:00+09:00",
         "U22"
        ]
       ],
       "shape": {
        "columns": 7,
        "rows": 10
       }
      },
      "text/html": [
       "<div>\n",
       "<style scoped>\n",
       "    .dataframe tbody tr th:only-of-type {\n",
       "        vertical-align: middle;\n",
       "    }\n",
       "\n",
       "    .dataframe tbody tr th {\n",
       "        vertical-align: top;\n",
       "    }\n",
       "\n",
       "    .dataframe thead th {\n",
       "        text-align: right;\n",
       "    }\n",
       "</style>\n",
       "<table border=\"1\" class=\"dataframe\">\n",
       "  <thead>\n",
       "    <tr style=\"text-align: right;\">\n",
       "      <th></th>\n",
       "      <th>ID</th>\n",
       "      <th>Activity Type ID</th>\n",
       "      <th>Activity Type</th>\n",
       "      <th>Started</th>\n",
       "      <th>Finished</th>\n",
       "      <th>Updated</th>\n",
       "      <th>Subject</th>\n",
       "    </tr>\n",
       "  </thead>\n",
       "  <tbody>\n",
       "    <tr>\n",
       "      <th>0</th>\n",
       "      <td>1130251</td>\n",
       "      <td>2806</td>\n",
       "      <td>1 (FACING camera) Sit and stand</td>\n",
       "      <td>2024-09-02 06:16:00+09:00</td>\n",
       "      <td>2024-09-02 06:16:00+09:00</td>\n",
       "      <td>2024-09-02 06:16:00+09:00</td>\n",
       "      <td>U22</td>\n",
       "    </tr>\n",
       "    <tr>\n",
       "      <th>1</th>\n",
       "      <td>1130254</td>\n",
       "      <td>2807</td>\n",
       "      <td>2 (FACING camera) both hands SHAKING (sitting ...</td>\n",
       "      <td>2024-09-02 06:17:00+09:00</td>\n",
       "      <td>2024-09-02 06:17:00+09:00</td>\n",
       "      <td>2024-09-02 06:17:00+09:00</td>\n",
       "      <td>U22</td>\n",
       "    </tr>\n",
       "    <tr>\n",
       "      <th>2</th>\n",
       "      <td>1130257</td>\n",
       "      <td>2807</td>\n",
       "      <td>2 (FACING camera) both hands SHAKING (sitting ...</td>\n",
       "      <td>2024-09-02 06:18:00+09:00</td>\n",
       "      <td>2024-09-02 06:18:00+09:00</td>\n",
       "      <td>2024-09-02 06:18:00+09:00</td>\n",
       "      <td>U22</td>\n",
       "    </tr>\n",
       "    <tr>\n",
       "      <th>3</th>\n",
       "      <td>1130261</td>\n",
       "      <td>2806</td>\n",
       "      <td>1 (FACING camera) Sit and stand</td>\n",
       "      <td>2024-09-02 06:20:00+09:00</td>\n",
       "      <td>2024-09-02 06:20:00+09:00</td>\n",
       "      <td>2024-09-02 06:20:00+09:00</td>\n",
       "      <td>U22</td>\n",
       "    </tr>\n",
       "    <tr>\n",
       "      <th>4</th>\n",
       "      <td>1130292</td>\n",
       "      <td>2806</td>\n",
       "      <td>1 (FACING camera) Sit and stand</td>\n",
       "      <td>2024-09-02 06:42:00+09:00</td>\n",
       "      <td>2024-09-02 06:42:00+09:00</td>\n",
       "      <td>2024-09-02 06:42:00+09:00</td>\n",
       "      <td>U2</td>\n",
       "    </tr>\n",
       "    <tr>\n",
       "      <th>5</th>\n",
       "      <td>1130293</td>\n",
       "      <td>2807</td>\n",
       "      <td>2 (FACING camera) both hands SHAKING (sitting ...</td>\n",
       "      <td>2024-09-02 06:42:00+09:00</td>\n",
       "      <td>2024-09-02 06:42:00+09:00</td>\n",
       "      <td>2024-09-02 06:42:00+09:00</td>\n",
       "      <td>U2</td>\n",
       "    </tr>\n",
       "    <tr>\n",
       "      <th>6</th>\n",
       "      <td>1130294</td>\n",
       "      <td>2808</td>\n",
       "      <td>3 Stand up from chair - both hands with SHAKING</td>\n",
       "      <td>2024-09-02 06:42:00+09:00</td>\n",
       "      <td>2024-09-02 06:42:00+09:00</td>\n",
       "      <td>2024-09-02 06:42:00+09:00</td>\n",
       "      <td>U2</td>\n",
       "    </tr>\n",
       "    <tr>\n",
       "      <th>7</th>\n",
       "      <td>1130306</td>\n",
       "      <td>2806</td>\n",
       "      <td>1 (FACING camera) Sit and stand</td>\n",
       "      <td>2024-09-02 06:44:00+09:00</td>\n",
       "      <td>2024-09-02 06:44:00+09:00</td>\n",
       "      <td>2024-09-02 06:44:00+09:00</td>\n",
       "      <td>U1</td>\n",
       "    </tr>\n",
       "    <tr>\n",
       "      <th>8</th>\n",
       "      <td>1136872</td>\n",
       "      <td>2806</td>\n",
       "      <td>1 (FACING camera) Sit and stand</td>\n",
       "      <td>2024-09-03 19:56:00+09:00</td>\n",
       "      <td>2024-09-03 19:56:00+09:00</td>\n",
       "      <td>2024-09-03 19:56:00+09:00</td>\n",
       "      <td>U22</td>\n",
       "    </tr>\n",
       "    <tr>\n",
       "      <th>9</th>\n",
       "      <td>1136878</td>\n",
       "      <td>2807</td>\n",
       "      <td>2 (FACING camera) both hands SHAKING (sitting ...</td>\n",
       "      <td>2024-09-03 19:56:00+09:00</td>\n",
       "      <td>2024-09-03 19:57:00+09:00</td>\n",
       "      <td>2024-09-03 19:57:00+09:00</td>\n",
       "      <td>U22</td>\n",
       "    </tr>\n",
       "  </tbody>\n",
       "</table>\n",
       "</div>"
      ],
      "text/plain": [
       "        ID  Activity Type ID  \\\n",
       "0  1130251              2806   \n",
       "1  1130254              2807   \n",
       "2  1130257              2807   \n",
       "3  1130261              2806   \n",
       "4  1130292              2806   \n",
       "5  1130293              2807   \n",
       "6  1130294              2808   \n",
       "7  1130306              2806   \n",
       "8  1136872              2806   \n",
       "9  1136878              2807   \n",
       "\n",
       "                                       Activity Type  \\\n",
       "0                    1 (FACING camera) Sit and stand   \n",
       "1  2 (FACING camera) both hands SHAKING (sitting ...   \n",
       "2  2 (FACING camera) both hands SHAKING (sitting ...   \n",
       "3                    1 (FACING camera) Sit and stand   \n",
       "4                    1 (FACING camera) Sit and stand   \n",
       "5  2 (FACING camera) both hands SHAKING (sitting ...   \n",
       "6    3 Stand up from chair - both hands with SHAKING   \n",
       "7                    1 (FACING camera) Sit and stand   \n",
       "8                    1 (FACING camera) Sit and stand   \n",
       "9  2 (FACING camera) both hands SHAKING (sitting ...   \n",
       "\n",
       "                    Started                  Finished  \\\n",
       "0 2024-09-02 06:16:00+09:00 2024-09-02 06:16:00+09:00   \n",
       "1 2024-09-02 06:17:00+09:00 2024-09-02 06:17:00+09:00   \n",
       "2 2024-09-02 06:18:00+09:00 2024-09-02 06:18:00+09:00   \n",
       "3 2024-09-02 06:20:00+09:00 2024-09-02 06:20:00+09:00   \n",
       "4 2024-09-02 06:42:00+09:00 2024-09-02 06:42:00+09:00   \n",
       "5 2024-09-02 06:42:00+09:00 2024-09-02 06:42:00+09:00   \n",
       "6 2024-09-02 06:42:00+09:00 2024-09-02 06:42:00+09:00   \n",
       "7 2024-09-02 06:44:00+09:00 2024-09-02 06:44:00+09:00   \n",
       "8 2024-09-03 19:56:00+09:00 2024-09-03 19:56:00+09:00   \n",
       "9 2024-09-03 19:56:00+09:00 2024-09-03 19:57:00+09:00   \n",
       "\n",
       "                    Updated Subject  \n",
       "0 2024-09-02 06:16:00+09:00     U22  \n",
       "1 2024-09-02 06:17:00+09:00     U22  \n",
       "2 2024-09-02 06:18:00+09:00     U22  \n",
       "3 2024-09-02 06:20:00+09:00     U22  \n",
       "4 2024-09-02 06:42:00+09:00      U2  \n",
       "5 2024-09-02 06:42:00+09:00      U2  \n",
       "6 2024-09-02 06:42:00+09:00      U2  \n",
       "7 2024-09-02 06:44:00+09:00      U1  \n",
       "8 2024-09-03 19:56:00+09:00     U22  \n",
       "9 2024-09-03 19:57:00+09:00     U22  "
      ]
     },
     "metadata": {},
     "output_type": "display_data"
    },
    {
     "name": "stdout",
     "output_type": "stream",
     "text": [
      "Index(['1 (FACING camera) Sit and stand',\n",
      "       '2 (FACING camera) both hands SHAKING (sitting position)',\n",
      "       '3 Stand up from chair - both hands with SHAKING',\n",
      "       '5 (Sideway) both hands SHAKING (sitting)',\n",
      "       '6 (Sideway) STAND up with - both hands SHAKING',\n",
      "       '10 Slow walk (SHAKING hands/body, tiny step, head forward)',\n",
      "       '4 (Sideway) Sit & stand', '8 Walk (LEFT --> Right --> Left)',\n",
      "       '9 Walk & STOP/frozen, full body shaking, rotate then return back',\n",
      "       '7 Cool down - sitting/relax'],\n",
      "      dtype='object', name='Activity Type')\n"
     ]
    }
   ],
   "source": [
    "# load activity data\n",
    "import pandas as pd\n",
    "\n",
    "def read_act_df(base_dir, time_cols=['Started', 'Finished', 'Updated']):\n",
    "    act_df = pd.read_csv(base_dir)\n",
    "    act_df = act_df.dropna(subset=time_cols)\n",
    "\n",
    "    for col in time_cols:\n",
    "        act_df[col] = pd.to_datetime(act_df[col], format='%Y/%m/%d %H:%M')\n",
    "        if act_df[col].isna().any():\n",
    "            raise ValueError(f\"Column '{col}' contains NaN or unparseable datetime values.\")\n",
    "        act_df[col] = act_df[col].dt.tz_localize('UTC+09:00')\n",
    "\n",
    "    return act_df\n",
    "\n",
    "act_path = '../data/TrainingDataPD25/TrainActivities.csv'\n",
    "act_df = read_act_df(act_path)\n",
    "display(act_df.head(10))\n",
    "print(act_df['Activity Type'].value_counts().index)"
   ]
  },
  {
   "cell_type": "code",
   "execution_count": 2,
   "id": "f0c04159",
   "metadata": {},
   "outputs": [],
   "source": [
    "# Load acceleration data\n",
    "# load all csv files into a DataFrame\n",
    "import os\n",
    "import glob\n",
    "\n",
    "base_dir = '/Users/tptn/MachineLearning/tremor_challenge2/data/TrainingDataPD25/users_timeXYZ/users'\n",
    "headers = ['id', 'datetime', 'x', 'y', 'z']\n",
    "\n",
    "def read_users_df(base_dir, headers):\n",
    "    \"\"\" Read all csv files in users folder \n",
    "    Return:\n",
    "        users_df: a DataFrame contains all csv files\n",
    "    Args:\n",
    "        base_dir: base folder to csv files\n",
    "        headers: headers for csv files\n",
    "    \"\"\"\n",
    "    df_list = [] # to store all csv files\n",
    "    for id in os.listdir(base_dir):\n",
    "        path = os.path.join(base_dir, id)\n",
    "\n",
    "        if os.path.isdir(path):\n",
    "            files = glob.glob(os.path.join(path, '*.csv'))\n",
    "\n",
    "            for f in files:\n",
    "                df = pd.read_csv(f, header=None, names=headers) # load csv\n",
    "                df['datetime'] = pd.to_datetime(df['datetime'], format='%Y-%m-%dT%H:%M:%S.%f%z') # conver to datetime\n",
    "                tz = df['datetime'].dt.tz # get the timezone\n",
    "                if tz != 'UTC+09:00':\n",
    "                    df['datetime'] = df['datetime'].dt.tz_convert('UTC+09:00')\n",
    "                df_list.append(df)\n",
    "    users_df = pd.concat(df_list, ignore_index=True)\n",
    "    users_df.sort_values(by=['datetime'], inplace=True)\n",
    "    return users_df\n",
    "\n",
    "users_df = read_users_df(base_dir, headers)"
   ]
  },
  {
   "cell_type": "markdown",
   "id": "320b4e2a",
   "metadata": {},
   "source": [
    "# Prepare the data for feature extraction"
   ]
  },
  {
   "cell_type": "code",
   "execution_count": 3,
   "id": "ab1fb09f",
   "metadata": {},
   "outputs": [],
   "source": [
    "def preprocess_acceleration_df(users_df):\n",
    "    \"\"\"\n",
    "    Remove duplicates replace with mean values of them\n",
    "\n",
    "    Parameters\n",
    "    ----------\n",
    "    users_df : DataFrame\n",
    "    \"\"\"\n",
    "    processed_df = users_df.groupby('datetime', as_index=False)[['x', 'y', 'z']].mean().reset_index(drop=True)\n",
    "    return processed_df\n",
    "\n",
    "def add_duration(df):\n",
    "    \"\"\"Adding duration between two given cols\n",
    "    \n",
    "    Return:\n",
    "        DataFrame\n",
    "\n",
    "    Args:\n",
    "        df (DataFrame)\n",
    "    \"\"\"\n",
    "    assert ValueError(df['Started'] - df['Finished'] ==  pd.Timedelta(minutes=1) - pd.Timedelta(microseconds=1))\n",
    "    df_cp = df.copy()\n",
    "    df_cp['Started'] = df_cp['Started'].dt.floor('s')\n",
    "    df_cp['Finished'] = df_cp['Finished'].dt.floor('s') + pd.Timedelta(minutes=1) - pd.Timedelta(microseconds=1)\n",
    "    return df_cp\n",
    "\n",
    "def preprocess_activity_label_df(act_df, is_test_set=False):\n",
    "    \"\"\"\n",
    "    For both training and testing set, add row id for mapping predicted labels to original data.\n",
    "\n",
    "    For training set:\n",
    "    1. Remove duplicates based on 'Started', 'Finished', 'Activity Type', 'Subject'\n",
    "    and keep the most lastest 'Update' time\n",
    "    2. Add duration between 'Started' and 'Finished'\n",
    "    3. Sort by 'Started' in ascending order\n",
    "    \n",
    "    For test set:\n",
    "    1. Remove na rows\n",
    "    2. Add duration between 'Started' and 'Finished'\n",
    "    3. Sort by 'Started' in ascending order\n",
    "    \n",
    "    Parameters\n",
    "    ----------\n",
    "    act_df : DataFrame\n",
    "    \n",
    "    Returns\n",
    "    -------\n",
    "    processed_df : DataFrame\n",
    "    \"\"\"\n",
    "    act_df['Row ID'] = act_df['ID'] # add row id for mapping predicted labels to original data\n",
    "    #1\n",
    "    if not is_test_set: # if not test set, drop duplicates\n",
    "        columns = ['Started', 'Finished', 'Activity Type', 'Subject']\n",
    "        drop_df = act_df.sort_values(by=['Updated'], ascending=False).drop_duplicates(subset=columns, keep='first').reset_index(drop=True)\n",
    "    else: # if is test set, drop na rows\n",
    "        drop_df = act_df.dropna(subset=['Started', 'Finished']).reset_index(drop=True)\n",
    "    #2\n",
    "    add_dur_df = add_duration(drop_df)\n",
    "    #3\n",
    "    sorted_df = add_dur_df.sort_values(by='Started', ascending=True).reset_index(drop=True)\n",
    "    \n",
    "    processed_df = sorted_df.copy() \n",
    "    return processed_df"
   ]
  },
  {
   "cell_type": "markdown",
   "id": "16fbe197",
   "metadata": {},
   "source": [
    "### Dummy code to test"
   ]
  },
  {
   "cell_type": "code",
   "execution_count": 11,
   "id": "9f9b22c4",
   "metadata": {},
   "outputs": [],
   "source": [
    "### check duplicates ###\n",
    "# duplicates = users_df[users_df['datetime'].duplicated(keep=False)]\n",
    "# duplicates.head(10)\n",
    "# users_df actually has duplicates?????\n",
    "# let calculate avg and drop duplicates\n",
    "# averaged_df = users_df.groupby('datetime', as_index=False)[['x', 'y', 'z']].mean()\n",
    "# print(act_df['Updated'].max())\n",
    "# dups = act_df[act_df['Updated'] == act_df['Updated'].max()]\n",
    "# duplicates = act_df[act_df.duplicated(\n",
    "#     subset=['Started', 'Finished', 'Activity Type', 'Subject'], \n",
    "#     keep=False)].sort_values(\n",
    "#         by=['Updated'], \n",
    "#         ascending=False)\n",
    "# display(duplicates.head(10))\n",
    "# display(dups.head(10))\n",
    "# display(act_df.sort_values(\n",
    "#     by=['Updated'],\n",
    "#     ascending=False).head(10))\n",
    "# There is multiple activities have the same Started, Finished, Activity Type, Subject but different Updated\n",
    "# So we drop duplicates but keep the lastest Updated\n",
    "# sorted_act_df = act_df.sort_values(by='Updated', ascending=False)\n",
    "# drop_dups_act_df = sorted_act_df.drop_duplicates(\n",
    "#     subset=['Started', 'Finished', 'Activity Type', 'Subject'], \n",
    "#     keep='first').reset_index(drop=True)\n",
    "# drop_dups_act_df.head(10)\n",
    "# drop_dups_act_df.shape\n",
    "### check na ###\n",
    "# users_df.isna().sum()\n",
    "# act_df.isna().sum()\n",
    "# there is no na at all\n",
    "# def add_duration(df):\n",
    "#     \"\"\"Adding interval between two given cols\n",
    "    \n",
    "#     Return:\n",
    "#         DataFrame: a dataframe with added interval between two columns\n",
    "\n",
    "#     Args:\n",
    "#         df (DataFrame): original dataframe\n",
    "#     \"\"\"\n",
    "#     df_cp = df.copy()\n",
    "\n",
    "#     df_cp['Started'] = df_cp['Started'].dt.floor('s')\n",
    "#     df_cp['Finished'] = df_cp['Finished'].dt.floor('s') + pd.Timedelta(minutes=1) - pd.Timedelta(microseconds=1)\n",
    "\n",
    "#     return df_cp\n",
    "\n",
    "# dur_df = add_duration(act_df)\n",
    "# display(dur_df[['Started', 'Finished']].head(10))\n",
    "# display(act_df[['Started', 'Finished']].head(10))"
   ]
  },
  {
   "cell_type": "markdown",
   "id": "629124af",
   "metadata": {},
   "source": [
    "# Segmentation"
   ]
  },
  {
   "cell_type": "code",
   "execution_count": 4,
   "id": "99ab4095",
   "metadata": {},
   "outputs": [],
   "source": [
    "def seg_acceleration_df_per_activity(users_df, act_df, seg_test_set=False):\n",
    "    \"\"\"\n",
    "    Segmenting the dataset into one dataframe per activity.\n",
    "\n",
    "    Each activity will has its own dataframe, which contains all the timestamps and accelerometer data within the activity time range.\n",
    "\n",
    "    Returns\n",
    "    -------\n",
    "    seg_list: list of df \n",
    "        one df contains acceleration data of corresponding activity label\n",
    "    seg_id_list: list of row id\n",
    "        this id is used to map the predicted labels back to the original activity label data\n",
    "    seg_label_list: list of label\n",
    "        one label correspond to one df in seg_list\n",
    "\n",
    "    Parameters\n",
    "    -----------\n",
    "    users_df: DataFrame\n",
    "        Acceleration data\n",
    "    act_df:  DataFrame\n",
    "        Activity label data\n",
    "    \"\"\"\n",
    "\n",
    "    seg_list = []\n",
    "    seg_label_list = []\n",
    "    seg_id_list= [] # to map predicts back to activity label data\n",
    "\n",
    "    for i in range(0, len(act_df)):\n",
    "        started_at = act_df.iloc[i]['Started']\n",
    "        finished_at = act_df.iloc[i]['Finished']\n",
    "\n",
    "        seg = users_df[(users_df['datetime'] >= started_at) & (users_df['datetime'] <= finished_at)]\n",
    "        seg_id = act_df.iloc[i]['Row ID']\n",
    "\n",
    "        if not seg_test_set:\n",
    "            seg_label = act_df.iloc[i]['Activity Type ID']\n",
    "\n",
    "        # check if seq is not empty\n",
    "        if len(seg) != 0:\n",
    "            seg_list.append(seg)\n",
    "            seg_id_list.append(seg_id)\n",
    "            if not seg_test_set:\n",
    "                seg_label_list.append(seg_label)\n",
    "\n",
    "    return seg_list, seg_id_list, seg_label_list"
   ]
  },
  {
   "cell_type": "code",
   "execution_count": 5,
   "id": "f3bc4431",
   "metadata": {},
   "outputs": [],
   "source": [
    "processed_users_df = preprocess_acceleration_df(users_df)\n",
    "processed_act_df = preprocess_activity_label_df(act_df)\n",
    "seg_list, seg_id_list, seg_label_list = seg_acceleration_df_per_activity(processed_users_df, processed_act_df, seg_test_set=False)"
   ]
  },
  {
   "cell_type": "code",
   "execution_count": 6,
   "id": "64856726",
   "metadata": {},
   "outputs": [
    {
     "name": "stdout",
     "output_type": "stream",
     "text": [
      "seg_list 199\n",
      "seg_id_list 199\n",
      "seg_label_list 199\n"
     ]
    }
   ],
   "source": [
    "print(f'seg_list {len(seg_list)}')\n",
    "print(f'seg_id_list {len(seg_id_list)}')\n",
    "print(f'seg_label_list {len(seg_label_list)}')"
   ]
  },
  {
   "cell_type": "markdown",
   "id": "22cf5f54",
   "metadata": {},
   "source": [
    "# Feature extraction\n"
   ]
  },
  {
   "cell_type": "code",
   "execution_count": null,
   "id": "aeb347a7",
   "metadata": {},
   "outputs": [],
   "source": [
    "%pip install scipy numpy statsmodels"
   ]
  },
  {
   "cell_type": "code",
   "execution_count": 7,
   "id": "f5a5a89d",
   "metadata": {},
   "outputs": [],
   "source": [
    "import numpy as np\n",
    "from scipy.stats import iqr, skew, kurtosis\n",
    "from scipy.signal import periodogram\n",
    "\n",
    "def zero_crossing_rate(signal):\n",
    "    return ((signal[:-1] * signal[1:]) < 0).sum() / len(signal)\n",
    "\n",
    "def safe_corr(a, b):\n",
    "    if len(a) < 2 or np.std(a) == 0 or np.std(b) == 0:\n",
    "        return 0.0\n",
    "    return np.corrcoef(a, b)[0, 1]\n",
    "\n",
    "def band_energy(signal, fs=50, low=4, high=6):\n",
    "    \"\"\"Compute energy in a frequency band (e.g., 4–6 Hz for tremor).\"\"\"\n",
    "    f, Pxx = periodogram(signal, fs=fs)\n",
    "    return np.sum(Pxx[(f >= low) & (f <= high)])\n",
    "\n",
    "def get_feats(df, columns=['x', 'y', 'z'], fs=50):\n",
    "    \"\"\"Method to extract features from acceleration dataframe.\n",
    "    Returns\n",
    "    -------\n",
    "    feats: list of numpy values\n",
    "        List of features extracted from the acceleration data.\n",
    "    \"\"\"\n",
    "    feats = []\n",
    "    tremor_band_energies = []\n",
    "\n",
    "    for col in columns:\n",
    "        data = df[col].values\n",
    "\n",
    "        std_ = np.std(data, ddof=0)\n",
    "        mean_ = np.mean(data)\n",
    "        max_ = np.max(data)\n",
    "        min_ = np.min(data)\n",
    "        median_ = np.median(data)\n",
    "        iqr_ = iqr(data)\n",
    "        var_ = np.var(data)\n",
    "        skew_ = skew(data)\n",
    "        kurt_ = kurtosis(data)\n",
    "        ptp_ = np.ptp(data)\n",
    "        rms_ = np.sqrt(np.mean(data**2))\n",
    "        zcr_ = zero_crossing_rate(data)\n",
    "\n",
    "        feats.extend([\n",
    "            std_, mean_, max_, min_, median_, iqr_,\n",
    "            var_, skew_, kurt_, ptp_, rms_, zcr_\n",
    "        ])\n",
    "\n",
    "        # Tremor-specific feature (4–6 Hz band energy)\n",
    "        tremor_energy = band_energy(data, fs=fs, low=4, high=6)\n",
    "        tremor_band_energies.append(tremor_energy)\n",
    "\n",
    "    # Signal Magnitude Area (SMA)\n",
    "    mag = np.abs(df[columns]).sum(axis=1)\n",
    "    sma = mag.sum() / len(df)\n",
    "    feats.append(sma)\n",
    "\n",
    "    # Axis correlations\n",
    "    feats.extend([\n",
    "        safe_corr(df['x'], df['y']),\n",
    "        safe_corr(df['y'], df['z']),\n",
    "        safe_corr(df['z'], df['x']),\n",
    "    ])\n",
    "\n",
    "    # Append tremor band energy per axis and total\n",
    "    feats.extend(tremor_band_energies)  # x, y, z band energy\n",
    "    feats.append(sum(tremor_band_energies))  # total tremor energy\n",
    "\n",
    "    return feats"
   ]
  },
  {
   "cell_type": "markdown",
   "id": "2602490f",
   "metadata": {},
   "source": [
    "# Window overlapping & Segmentation"
   ]
  },
  {
   "cell_type": "code",
   "execution_count": 8,
   "id": "a6604e36",
   "metadata": {},
   "outputs": [],
   "source": [
    "def window_segment(df, wsize, stride):\n",
    "    \"\"\"Segment using sliding window method\n",
    "\n",
    "    Returns:\n",
    "        List: list of features per activity\n",
    "    Args:\n",
    "        df: accelerometer data\n",
    "        wsize: window size [seconds]\n",
    "        stride: how much the window slide\n",
    "    \"\"\"\n",
    "    features_list = []\n",
    "    start_time = df['datetime'].min()\n",
    "    end_time = df['datetime'].max()\n",
    "    current_start = start_time\n",
    "\n",
    "    while current_start + pd.Timedelta(seconds=wsize) <= end_time:\n",
    "        current_end = current_start + pd.Timedelta(seconds=wsize)\n",
    "        window = df[(df['datetime'] >= current_start) & (df['datetime'] < current_end)]\n",
    "        if not window.empty:\n",
    "            feats = get_feats(window)\n",
    "            features_list.append(feats)\n",
    "        current_start += pd.Timedelta(seconds=stride)\n",
    "\n",
    "    return features_list\n",
    "\n",
    "def segment_all(seg_list, seg_id_list, seg_label_list, wsize=1, stride=0.5, seg_test_set=False):\n",
    "    all_features = []\n",
    "    all_ids = []\n",
    "    all_labels = []\n",
    "\n",
    "    if not seg_test_set: # if not is test set, we have labels\n",
    "        for df, id, label in zip(seg_list, seg_id_list, seg_label_list):\n",
    "            feats_list = window_segment(df, wsize, stride)\n",
    "\n",
    "            all_features.extend(feats_list)\n",
    "            all_ids.extend([id] * len(feats_list))\n",
    "            all_labels.extend([label] * len(feats_list))\n",
    "\n",
    "    if seg_test_set: # if is test set, we don't have labels, no window segmentation\n",
    "        for df, id in zip(seg_list, seg_id_list):\n",
    "            feats = get_feats(df)\n",
    "            all_features.append(feats)\n",
    "            all_ids.extend([id] * len(feats))\n",
    "\n",
    "    # Define feature names for columns (must match get_feats output)\n",
    "    axes = ['x', 'y', 'z']\n",
    "    base_features = ['std', 'mean', 'max', 'min', 'median', 'iqr', 'var', 'skew', 'kurt', 'ptp', 'rms', 'zcr']\n",
    "    tremor_band = ['tremor_energy']\n",
    "\n",
    "    columns = []\n",
    "    for axis in axes:\n",
    "        for feat in base_features + tremor_band:\n",
    "            columns.append(f'{feat}_{axis}')\n",
    "\n",
    "    columns += ['sma', 'corr_xy', 'corr_yz', 'corr_zx', 'total_tremor_energy']\n",
    "\n",
    "    features_df = pd.DataFrame(all_features, columns=columns)\n",
    "    if not seg_test_set:\n",
    "        features_df['label'] = all_labels\n",
    "\n",
    "    return features_df"
   ]
  },
  {
   "cell_type": "code",
   "execution_count": 10,
   "id": "bc452b9e",
   "metadata": {},
   "outputs": [
    {
     "ename": "KeyboardInterrupt",
     "evalue": "",
     "output_type": "error",
     "traceback": [
      "\u001b[31m---------------------------------------------------------------------------\u001b[39m",
      "\u001b[31mKeyboardInterrupt\u001b[39m                         Traceback (most recent call last)",
      "\u001b[36mCell\u001b[39m\u001b[36m \u001b[39m\u001b[32mIn[10]\u001b[39m\u001b[32m, line 3\u001b[39m\n\u001b[32m      1\u001b[39m WINDOW_SIZE = \u001b[32m1\u001b[39m  \u001b[38;5;66;03m# seconds\u001b[39;00m\n\u001b[32m      2\u001b[39m OVERLAP_RATE = \u001b[32m0.5\u001b[39m * WINDOW_SIZE  \u001b[38;5;66;03m# seconds\u001b[39;00m\n\u001b[32m----> \u001b[39m\u001b[32m3\u001b[39m all_features_and_labels_df = \u001b[43msegment_all\u001b[49m\u001b[43m(\u001b[49m\u001b[43mseg_list\u001b[49m\u001b[43m,\u001b[49m\u001b[43m \u001b[49m\u001b[43mseg_id_list\u001b[49m\u001b[43m,\u001b[49m\u001b[43m \u001b[49m\u001b[43mseg_label_list\u001b[49m\u001b[43m,\u001b[49m\u001b[43m \u001b[49m\u001b[43mwsize\u001b[49m\u001b[43m=\u001b[49m\u001b[43mWINDOW_SIZE\u001b[49m\u001b[43m,\u001b[49m\u001b[43m \u001b[49m\u001b[43mstride\u001b[49m\u001b[43m=\u001b[49m\u001b[43mWINDOW_SIZE\u001b[49m\u001b[43m-\u001b[49m\u001b[43mOVERLAP_RATE\u001b[49m\u001b[43m)\u001b[49m\n",
      "\u001b[36mCell\u001b[39m\u001b[36m \u001b[39m\u001b[32mIn[8]\u001b[39m\u001b[32m, line 33\u001b[39m, in \u001b[36msegment_all\u001b[39m\u001b[34m(seg_list, seg_id_list, seg_label_list, wsize, stride, seg_test_set)\u001b[39m\n\u001b[32m     31\u001b[39m \u001b[38;5;28;01mif\u001b[39;00m \u001b[38;5;129;01mnot\u001b[39;00m seg_test_set: \u001b[38;5;66;03m# if not is test set, we have labels\u001b[39;00m\n\u001b[32m     32\u001b[39m     \u001b[38;5;28;01mfor\u001b[39;00m df, \u001b[38;5;28mid\u001b[39m, label \u001b[38;5;129;01min\u001b[39;00m \u001b[38;5;28mzip\u001b[39m(seg_list, seg_id_list, seg_label_list):\n\u001b[32m---> \u001b[39m\u001b[32m33\u001b[39m         feats_list = \u001b[43mwindow_segment\u001b[49m\u001b[43m(\u001b[49m\u001b[43mdf\u001b[49m\u001b[43m,\u001b[49m\u001b[43m \u001b[49m\u001b[43mwsize\u001b[49m\u001b[43m,\u001b[49m\u001b[43m \u001b[49m\u001b[43mstride\u001b[49m\u001b[43m)\u001b[49m\n\u001b[32m     35\u001b[39m         all_features.extend(feats_list)\n\u001b[32m     36\u001b[39m         all_ids.extend([\u001b[38;5;28mid\u001b[39m] * \u001b[38;5;28mlen\u001b[39m(feats_list))\n",
      "\u001b[36mCell\u001b[39m\u001b[36m \u001b[39m\u001b[32mIn[8]\u001b[39m\u001b[32m, line 20\u001b[39m, in \u001b[36mwindow_segment\u001b[39m\u001b[34m(df, wsize, stride)\u001b[39m\n\u001b[32m     18\u001b[39m window = df[(df[\u001b[33m'\u001b[39m\u001b[33mdatetime\u001b[39m\u001b[33m'\u001b[39m] >= current_start) & (df[\u001b[33m'\u001b[39m\u001b[33mdatetime\u001b[39m\u001b[33m'\u001b[39m] < current_end)]\n\u001b[32m     19\u001b[39m \u001b[38;5;28;01mif\u001b[39;00m \u001b[38;5;129;01mnot\u001b[39;00m window.empty:\n\u001b[32m---> \u001b[39m\u001b[32m20\u001b[39m     feats = \u001b[43mget_feats\u001b[49m\u001b[43m(\u001b[49m\u001b[43mwindow\u001b[49m\u001b[43m)\u001b[49m\n\u001b[32m     21\u001b[39m     features_list.append(feats)\n\u001b[32m     22\u001b[39m current_start += pd.Timedelta(seconds=stride)\n",
      "\u001b[36mCell\u001b[39m\u001b[36m \u001b[39m\u001b[32mIn[7]\u001b[39m\u001b[32m, line 38\u001b[39m, in \u001b[36mget_feats\u001b[39m\u001b[34m(df, columns, fs)\u001b[39m\n\u001b[32m     36\u001b[39m iqr_ = iqr(data)\n\u001b[32m     37\u001b[39m var_ = np.var(data)\n\u001b[32m---> \u001b[39m\u001b[32m38\u001b[39m skew_ = \u001b[43mskew\u001b[49m\u001b[43m(\u001b[49m\u001b[43mdata\u001b[49m\u001b[43m)\u001b[49m\n\u001b[32m     39\u001b[39m kurt_ = kurtosis(data)\n\u001b[32m     40\u001b[39m ptp_ = np.ptp(data)\n",
      "\u001b[36mFile \u001b[39m\u001b[32m~/MachineLearning/tremor_challenge2/lib/python3.12/site-packages/scipy/stats/_axis_nan_policy.py:535\u001b[39m, in \u001b[36m_axis_nan_policy_factory.<locals>.axis_nan_policy_decorator.<locals>.axis_nan_policy_wrapper\u001b[39m\u001b[34m(***failed resolving arguments***)\u001b[39m\n\u001b[32m    532\u001b[39m     samples = [np.asarray(sample.ravel()) \u001b[38;5;28;01mfor\u001b[39;00m sample \u001b[38;5;129;01min\u001b[39;00m samples]\n\u001b[32m    533\u001b[39m \u001b[38;5;28;01melse\u001b[39;00m:\n\u001b[32m    534\u001b[39m     \u001b[38;5;66;03m# don't ignore any axes when broadcasting if paired\u001b[39;00m\n\u001b[32m--> \u001b[39m\u001b[32m535\u001b[39m     samples = \u001b[43m_broadcast_arrays\u001b[49m\u001b[43m(\u001b[49m\u001b[43msamples\u001b[49m\u001b[43m,\u001b[49m\u001b[43m \u001b[49m\u001b[43maxis\u001b[49m\u001b[43m=\u001b[49m\u001b[43maxis\u001b[49m\u001b[43m \u001b[49m\u001b[38;5;28;43;01mif\u001b[39;49;00m\u001b[43m \u001b[49m\u001b[38;5;129;43;01mnot\u001b[39;49;00m\u001b[43m \u001b[49m\u001b[43mpaired\u001b[49m\u001b[43m \u001b[49m\u001b[38;5;28;43;01melse\u001b[39;49;00m\u001b[43m \u001b[49m\u001b[38;5;28;43;01mNone\u001b[39;49;00m\u001b[43m)\u001b[49m\n\u001b[32m    536\u001b[39m     axis = np.atleast_1d(axis)\n\u001b[32m    537\u001b[39m     n_axes = \u001b[38;5;28mlen\u001b[39m(axis)\n",
      "\u001b[36mFile \u001b[39m\u001b[32m~/MachineLearning/tremor_challenge2/lib/python3.12/site-packages/scipy/stats/_axis_nan_policy.py:50\u001b[39m, in \u001b[36m_broadcast_arrays\u001b[39m\u001b[34m(arrays, axis, xp)\u001b[39m\n\u001b[32m     48\u001b[39m arrays = [xp.asarray(arr) \u001b[38;5;28;01mfor\u001b[39;00m arr \u001b[38;5;129;01min\u001b[39;00m arrays]\n\u001b[32m     49\u001b[39m shapes = [arr.shape \u001b[38;5;28;01mfor\u001b[39;00m arr \u001b[38;5;129;01min\u001b[39;00m arrays]\n\u001b[32m---> \u001b[39m\u001b[32m50\u001b[39m new_shapes = \u001b[43m_broadcast_shapes\u001b[49m\u001b[43m(\u001b[49m\u001b[43mshapes\u001b[49m\u001b[43m,\u001b[49m\u001b[43m \u001b[49m\u001b[43maxis\u001b[49m\u001b[43m)\u001b[49m\n\u001b[32m     51\u001b[39m \u001b[38;5;28;01mif\u001b[39;00m axis \u001b[38;5;129;01mis\u001b[39;00m \u001b[38;5;28;01mNone\u001b[39;00m:\n\u001b[32m     52\u001b[39m     new_shapes = [new_shapes]*\u001b[38;5;28mlen\u001b[39m(arrays)\n",
      "\u001b[36mFile \u001b[39m\u001b[32m~/MachineLearning/tremor_challenge2/lib/python3.12/site-packages/scipy/stats/_axis_nan_policy.py:86\u001b[39m, in \u001b[36m_broadcast_shapes\u001b[39m\u001b[34m(shapes, axis)\u001b[39m\n\u001b[32m     84\u001b[39m \u001b[38;5;28;01mif\u001b[39;00m axis \u001b[38;5;129;01mis\u001b[39;00m \u001b[38;5;129;01mnot\u001b[39;00m \u001b[38;5;28;01mNone\u001b[39;00m:\n\u001b[32m     85\u001b[39m     axis[axis < \u001b[32m0\u001b[39m] = n_dims + axis[axis < \u001b[32m0\u001b[39m]\n\u001b[32m---> \u001b[39m\u001b[32m86\u001b[39m     axis = \u001b[43mnp\u001b[49m\u001b[43m.\u001b[49m\u001b[43msort\u001b[49m\u001b[43m(\u001b[49m\u001b[43maxis\u001b[49m\u001b[43m)\u001b[49m\n\u001b[32m     87\u001b[39m     \u001b[38;5;28;01mif\u001b[39;00m axis[-\u001b[32m1\u001b[39m] >= n_dims \u001b[38;5;129;01mor\u001b[39;00m axis[\u001b[32m0\u001b[39m] < \u001b[32m0\u001b[39m:\n\u001b[32m     88\u001b[39m         message = (\u001b[33mf\u001b[39m\u001b[33m\"\u001b[39m\u001b[33m`axis` is out of bounds \u001b[39m\u001b[33m\"\u001b[39m\n\u001b[32m     89\u001b[39m                    \u001b[33mf\u001b[39m\u001b[33m\"\u001b[39m\u001b[33mfor array of dimension \u001b[39m\u001b[38;5;132;01m{\u001b[39;00mn_dims\u001b[38;5;132;01m}\u001b[39;00m\u001b[33m\"\u001b[39m)\n",
      "\u001b[36mFile \u001b[39m\u001b[32m~/MachineLearning/tremor_challenge2/lib/python3.12/site-packages/numpy/_core/fromnumeric.py:969\u001b[39m, in \u001b[36m_sort_dispatcher\u001b[39m\u001b[34m(a, axis, kind, order, stable)\u001b[39m\n\u001b[32m    880\u001b[39m \u001b[38;5;250m    \u001b[39m\u001b[33;03m\"\"\"\u001b[39;00m\n\u001b[32m    881\u001b[39m \u001b[33;03m    Perform an indirect partition along the given axis using the\u001b[39;00m\n\u001b[32m    882\u001b[39m \u001b[33;03m    algorithm specified by the `kind` keyword. It returns an array of\u001b[39;00m\n\u001b[32m   (...)\u001b[39m\u001b[32m    964\u001b[39m \n\u001b[32m    965\u001b[39m \u001b[33;03m    \"\"\"\u001b[39;00m\n\u001b[32m    966\u001b[39m     \u001b[38;5;28;01mreturn\u001b[39;00m _wrapfunc(a, \u001b[33m'\u001b[39m\u001b[33margpartition\u001b[39m\u001b[33m'\u001b[39m, kth, axis=axis, kind=kind, order=order)\n\u001b[32m--> \u001b[39m\u001b[32m969\u001b[39m \u001b[38;5;28;01mdef\u001b[39;00m\u001b[38;5;250m \u001b[39m\u001b[34m_sort_dispatcher\u001b[39m(a, axis=\u001b[38;5;28;01mNone\u001b[39;00m, kind=\u001b[38;5;28;01mNone\u001b[39;00m, order=\u001b[38;5;28;01mNone\u001b[39;00m, *, stable=\u001b[38;5;28;01mNone\u001b[39;00m):\n\u001b[32m    970\u001b[39m     \u001b[38;5;28;01mreturn\u001b[39;00m (a,)\n\u001b[32m    973\u001b[39m \u001b[38;5;129m@array_function_dispatch\u001b[39m(_sort_dispatcher)\n\u001b[32m    974\u001b[39m \u001b[38;5;28;01mdef\u001b[39;00m\u001b[38;5;250m \u001b[39m\u001b[34msort\u001b[39m(a, axis=-\u001b[32m1\u001b[39m, kind=\u001b[38;5;28;01mNone\u001b[39;00m, order=\u001b[38;5;28;01mNone\u001b[39;00m, *, stable=\u001b[38;5;28;01mNone\u001b[39;00m):\n",
      "\u001b[31mKeyboardInterrupt\u001b[39m: "
     ]
    }
   ],
   "source": [
    "WINDOW_SIZE = 1  # seconds\n",
    "OVERLAP_RATE = 0.5 * WINDOW_SIZE  # seconds\n",
    "all_features_and_labels_df = segment_all(seg_list, seg_id_list, seg_label_list, wsize=WINDOW_SIZE, stride=WINDOW_SIZE-OVERLAP_RATE)"
   ]
  },
  {
   "cell_type": "markdown",
   "id": "d24363db",
   "metadata": {},
   "source": [
    "# Save & Load the segments"
   ]
  },
  {
   "cell_type": "code",
   "execution_count": 11,
   "id": "d76bd7ef",
   "metadata": {},
   "outputs": [
    {
     "ename": "NameError",
     "evalue": "name 'all_features_and_labels_df' is not defined",
     "output_type": "error",
     "traceback": [
      "\u001b[31m---------------------------------------------------------------------------\u001b[39m",
      "\u001b[31mNameError\u001b[39m                                 Traceback (most recent call last)",
      "\u001b[36mCell\u001b[39m\u001b[36m \u001b[39m\u001b[32mIn[11]\u001b[39m\u001b[32m, line 3\u001b[39m\n\u001b[32m      1\u001b[39m \u001b[38;5;66;03m# save the processed data frame for the sake of my mentality\u001b[39;00m\n\u001b[32m      2\u001b[39m file_name = \u001b[33mf\u001b[39m\u001b[33m'\u001b[39m\u001b[33mall_feats_and_labels_wsize_\u001b[39m\u001b[38;5;132;01m{\u001b[39;00mWINDOW_SIZE\u001b[38;5;132;01m}\u001b[39;00m\u001b[33m_overlap_\u001b[39m\u001b[38;5;132;01m{\u001b[39;00mOVERLAP_RATE\u001b[38;5;132;01m}\u001b[39;00m\u001b[33m.csv\u001b[39m\u001b[33m'\u001b[39m\n\u001b[32m----> \u001b[39m\u001b[32m3\u001b[39m \u001b[43mall_features_and_labels_df\u001b[49m.to_csv(\u001b[33mf\u001b[39m\u001b[33m'\u001b[39m\u001b[33m../data/\u001b[39m\u001b[38;5;132;01m{\u001b[39;00mfile_name\u001b[38;5;132;01m}\u001b[39;00m\u001b[33m'\u001b[39m, index=\u001b[38;5;28;01mFalse\u001b[39;00m)\n",
      "\u001b[31mNameError\u001b[39m: name 'all_features_and_labels_df' is not defined"
     ]
    }
   ],
   "source": [
    "# save the processed data frame for the sake of my mentality\n",
    "file_name = f'all_feats_and_labels_wsize_{WINDOW_SIZE}_overlap_{OVERLAP_RATE}.csv'\n",
    "all_features_and_labels_df.to_csv(f'../data/{file_name}', index=False)"
   ]
  },
  {
   "cell_type": "code",
   "execution_count": 12,
   "id": "30acf66b",
   "metadata": {},
   "outputs": [],
   "source": [
    "# load the saved data frame\n",
    "all_df = pd.read_csv('../data/all_feats_and_labels_wsize_1_overlap_0.5.csv')\n",
    "all_df = all_df.dropna()  # Drop rows with NaN values\n",
    "# print(f'before save: {all_features_and_labels_df.shape}, after load: {all_df.shape}')"
   ]
  },
  {
   "cell_type": "markdown",
   "id": "8cf04879",
   "metadata": {},
   "source": [
    "# Correlation matrix"
   ]
  },
  {
   "cell_type": "code",
   "execution_count": 14,
   "id": "f43d7485",
   "metadata": {},
   "outputs": [],
   "source": [
    "import seaborn as sns\n",
    "import matplotlib.pyplot as plt\n",
    "\n",
    "def plot_corr(df, drop_cols=['label', 'subject']):\n",
    "    # Drop label for correlation\n",
    "    corr_matrix = df.drop(columns=drop_cols).corr()\n",
    "\n",
    "    # Plot correlation heatmap\n",
    "    plt.figure(figsize=(16, 12))\n",
    "    sns.heatmap(corr_matrix, cmap='coolwarm', center=0, annot=False, fmt=\".2f\")\n",
    "    plt.title(\"Feature Correlation Heatmap (excluding label)\")\n",
    "    plt.tight_layout()\n",
    "    plt.show()"
   ]
  },
  {
   "cell_type": "code",
   "execution_count": 15,
   "id": "aa8dbdc3",
   "metadata": {},
   "outputs": [
    {
     "data": {
      "image/png": "[encoded data removed]",
      "text/plain": [
       "<Figure size 1600x1200 with 2 Axes>"
      ]
     },
     "metadata": {},
     "output_type": "display_data"
    }
   ],
   "source": [
    "plot_corr(all_df)"
   ]
  },
  {
   "cell_type": "markdown",
   "id": "fd9773d0",
   "metadata": {},
   "source": [
    "# Split the data"
   ]
  },
  {
   "cell_type": "code",
   "execution_count": 16,
   "id": "fbd7a1f1",
   "metadata": {},
   "outputs": [],
   "source": [
    "def split_by_position(X, y, start_ratio=0.0, train_ratio=0.7):\n",
    "    \"\"\"\n",
    "    Split dataset into train/test without shuffling.\n",
    "    \n",
    "    Parameters:\n",
    "    - X, y: features and labels\n",
    "    - start_ratio: float in [0, 1), where to start the 70% slice\n",
    "    - train_ratio: proportion of the data to use as training (e.g. 0.7)\n",
    "\n",
    "    Returns:\n",
    "    - X_train, X_test, y_train, y_test\n",
    "    \"\"\"\n",
    "    assert 0 <= start_ratio < 1, \"start_ratio must be in [0, 1)\"\n",
    "    assert 0 < train_ratio <= 1, \"train_ratio must be in (0, 1]\"\n",
    "\n",
    "    total_len = len(X)\n",
    "    start_index = int(start_ratio * total_len)\n",
    "    end_index = start_index + int(train_ratio * total_len)\n",
    "\n",
    "    # Handle edge case where end_index exceeds total_len\n",
    "    if end_index > total_len:\n",
    "        end_index = total_len\n",
    "\n",
    "    X_train = X[start_index:end_index]\n",
    "    y_train = y[start_index:end_index]\n",
    "\n",
    "    # Use everything else for test\n",
    "    X_test = np.concatenate((X[:start_index], X[end_index:]), axis=0)\n",
    "    y_test = np.concatenate((y[:start_index], y[end_index:]), axis=0)\n",
    "\n",
    "    return X_train, X_test, y_train, y_test"
   ]
  },
  {
   "cell_type": "code",
   "execution_count": 17,
   "id": "861b9f5e",
   "metadata": {},
   "outputs": [],
   "source": [
    "X = all_df.drop(columns=['label', 'subject']).values\n",
    "y = all_df['label'].values"
   ]
  },
  {
   "cell_type": "code",
   "execution_count": null,
   "id": "4803a8f8",
   "metadata": {},
   "outputs": [],
   "source": [
    "# don't use this split, it gives bad performance\n",
    "# X_train, X_test, y_train, y_test = split_by_position(X, y, start_ratio=0.05, train_ratio=0.7)\n",
    "# print(f'X_train_shape: {X_train.shape}, X_test_shape: {X_test.shape}')\n",
    "# print(f'y_train_shape: {y_train.shape}, y_test_shape: {y_test.shape}')\n",
    "# print(f'y_train_act_labels: {set(y_train.tolist())}\\n y_test_act_labels: {set(y_test.tolist())}')"
   ]
  },
  {
   "cell_type": "code",
   "execution_count": 18,
   "id": "f8afc22a",
   "metadata": {},
   "outputs": [
    {
     "name": "stdout",
     "output_type": "stream",
     "text": [
      "X_train_shape: (22230, 44), X_test_shape: (9528, 44)\n",
      "y_train_shape: (22230,), y_test_shape: (9528,)\n",
      "y_train_act_labels: {2806, 2807, 2808, 2809, 2810, 2811, 2812, 2813, 2814, 2815}\n",
      " y_test_act_labels: {2806, 2807, 2808, 2809, 2810, 2811, 2812, 2813, 2814, 2815}\n"
     ]
    }
   ],
   "source": [
    "# split data into 70% training and 30% testing, while preserving the class distribution in the training set\n",
    "from sklearn.model_selection import train_test_split\n",
    "X_train, X_test, y_train, y_test = train_test_split(X, y, test_size=0.3, shuffle=True, random_state=42, stratify=y)\n",
    "print(f'X_train_shape: {X_train.shape}, X_test_shape: {X_test.shape}')\n",
    "print(f'y_train_shape: {y_train.shape}, y_test_shape: {y_test.shape}')\n",
    "print(f'y_train_act_labels: {set(y_train.tolist())}\\n y_test_act_labels: {set(y_test.tolist())}')"
   ]
  },
  {
   "cell_type": "code",
   "execution_count": 20,
   "id": "9b292bce",
   "metadata": {},
   "outputs": [],
   "source": [
    "# save the split data\n",
    "\n",
    "np.savez('../data/train_test_split.npz', \n",
    "        X_train=X_train, X_test=X_test, \n",
    "        y_train=y_train, y_test=y_test)"
   ]
  },
  {
   "cell_type": "code",
   "execution_count": 21,
   "id": "75ae50f6",
   "metadata": {},
   "outputs": [],
   "source": [
    "data = np.load('../data/train_test_split_with_sklearn.npz')\n",
    "X_train = data['X_train']\n",
    "X_test = data['X_test']\n",
    "y_train = data['y_train']\n",
    "y_test = data['y_test']"
   ]
  },
  {
   "cell_type": "markdown",
   "id": "f950e68f",
   "metadata": {},
   "source": [
    "# Handle imbalanced classes"
   ]
  },
  {
   "cell_type": "markdown",
   "id": "f72f6f15",
   "metadata": {},
   "source": [
    "## ADASYN"
   ]
  },
  {
   "cell_type": "code",
   "execution_count": null,
   "id": "42580f84",
   "metadata": {},
   "outputs": [],
   "source": [
    "# from imblearn.over_sampling import ADASYN\n",
    "\n",
    "# ada = ADASYN(random_state=42)\n",
    "\n",
    "# X_resampled, y_resampled = ada.fit_resample(X_train, y_train)\n",
    "\n",
    "# print(f'X: {X.shape}, y: {y.shape}')\n",
    "# print(f'X_resampled: {X_resampled.shape}, y_resampled: {y_resampled.shape}')\n",
    "#### NOTE: ADASYN does not work well with this dataset. ###"
   ]
  },
  {
   "cell_type": "markdown",
   "id": "e7303d85",
   "metadata": {},
   "source": [
    "## SMOTE"
   ]
  },
  {
   "cell_type": "code",
   "execution_count": 25,
   "id": "1cc6b0fc",
   "metadata": {},
   "outputs": [
    {
     "name": "stdout",
     "output_type": "stream",
     "text": [
      "X: (31758, 44), y: (31758,)\n",
      "X_resampled: (34080, 44), y_resampled: (34080,)\n"
     ]
    }
   ],
   "source": [
    "from imblearn.over_sampling import SMOTE\n",
    "\n",
    "smote = SMOTE(random_state=42)\n",
    "\n",
    "X_resampled, y_resampled = smote.fit_resample(X_train, y_train)\n",
    "\n",
    "print(f'X: {X.shape}, y: {y.shape}')\n",
    "print(f'X_resampled: {X_resampled.shape}, y_resampled: {y_resampled.shape}')"
   ]
  },
  {
   "cell_type": "markdown",
   "id": "7ab388ea",
   "metadata": {},
   "source": [
    "## Random Over Sampler"
   ]
  },
  {
   "cell_type": "code",
   "execution_count": 23,
   "id": "58b3aa37",
   "metadata": {},
   "outputs": [
    {
     "name": "stdout",
     "output_type": "stream",
     "text": [
      "X: (22230, 44), y: (22230,)\n",
      "X_resampled: (34080, 44), y_resampled: (34080,)\n"
     ]
    }
   ],
   "source": [
    "# from imblearn.over_sampling import RandomOverSampler\n",
    "\n",
    "# randomSampler = RandomOverSampler(random_state=42)\n",
    "\n",
    "# X_resampled, y_resampled = randomSampler.fit_resample(X_train, y_train)\n",
    "\n",
    "# print(f'X: {X_train.shape}, y: {y_train.shape}')\n",
    "# print(f'X_resampled: {X_resampled.shape}, y_resampled: {y_resampled.shape}')"
   ]
  },
  {
   "cell_type": "markdown",
   "id": "c64f1520",
   "metadata": {},
   "source": [
    "## Plot the distribution of the original and resampled data"
   ]
  },
  {
   "cell_type": "code",
   "execution_count": null,
   "id": "ef5d3d11",
   "metadata": {},
   "outputs": [
    {
     "ename": "NameError",
     "evalue": "name 'y_resampled' is not defined",
     "output_type": "error",
     "traceback": [
      "\u001b[31m---------------------------------------------------------------------------\u001b[39m\n",
      "\u001b[31mNameError\u001b[39m                                 Traceback (most recent call last)\n",
      "\u001b[36mCell\u001b[39m\u001b[36m \u001b[39m\u001b[32mIn[27]\u001b[39m\u001b[32m, line 6\u001b[39m\n",
      "\u001b[32m      4\u001b[39m \u001b[38;5;66;03m# Count occurrences\u001b[39;00m\n",
      "\u001b[32m      5\u001b[39m counter_before = Counter(y_train)\n",
      "\u001b[32m----> \u001b[39m\u001b[32m6\u001b[39m counter_after = Counter(\u001b[43my_resampled\u001b[49m)\n",
      "\u001b[32m      8\u001b[39m \u001b[38;5;66;03m# Get sorted class labels\u001b[39;00m\n",
      "\u001b[32m      9\u001b[39m classes = \u001b[38;5;28msorted\u001b[39m(\u001b[38;5;28mlist\u001b[39m(\u001b[38;5;28mset\u001b[39m(y_train)))\n",
      "\n",
      "\u001b[31mNameError\u001b[39m: name 'y_resampled' is not defined"
     ]
    }
   ],
   "source": [
    "import matplotlib.pyplot as plt\n",
    "from collections import Counter\n",
    "\n",
    "# Count occurrences\n",
    "counter_before = Counter(y_train)\n",
    "counter_after = Counter(y_resampled)\n",
    "\n",
    "# Get sorted class labels\n",
    "classes = sorted(list(set(y_train)))\n",
    "counts_before = [counter_before[cls] for cls in classes]\n",
    "counts_after = [counter_after[cls] for cls in classes]\n",
    "\n",
    "# Plotting\n",
    "x = np.arange(len(classes))\n",
    "width = 0.35\n",
    "\n",
    "plt.figure(figsize=(10, 6))\n",
    "plt.bar(x - width/2, counts_before, width=width, label='Before Oversampling')\n",
    "plt.bar(x + width/2, counts_after, width=width, label='After Oversampling')\n",
    "\n",
    "plt.xlabel('Class')\n",
    "plt.ylabel('Number of Samples')\n",
    "plt.title('Class Distribution Before and After Oversampling')\n",
    "plt.xticks(x, classes)\n",
    "plt.legend()\n",
    "plt.grid(axis='y', linestyle='--', alpha=0.7)\n",
    "plt.tight_layout()\n",
    "plt.show()"
   ]
  },
  {
   "cell_type": "markdown",
   "id": "45a39d2b",
   "metadata": {},
   "source": [
    "# Predict good algorithm for this dataset"
   ]
  },
  {
   "cell_type": "code",
   "execution_count": 26,
   "id": "be85de2a",
   "metadata": {},
   "outputs": [
    {
     "data": {
      "application/vnd.jupyter.widget-view+json": {
       "model_id": "8318027afb4c48bf98d5f93543e76745",
       "version_major": 2,
       "version_minor": 0
      },
      "text/plain": [
       "  0%|          | 0/32 [00:00<?, ?it/s]"
      ]
     },
     "metadata": {},
     "output_type": "display_data"
    },
    {
     "name": "stdout",
     "output_type": "stream",
     "text": [
      "[LightGBM] [Info] Auto-choosing row-wise multi-threading, the overhead of testing was 0.001215 seconds.\n",
      "You can set `force_row_wise=true` to remove the overhead.\n",
      "And if memory is not enough, you can set `force_col_wise=true`.\n",
      "[LightGBM] [Info] Total Bins 10887\n",
      "[LightGBM] [Info] Number of data points in the train set: 22230, number of used features: 44\n",
      "[LightGBM] [Info] Start training from score -2.600062\n",
      "[LightGBM] [Info] Start training from score -2.190768\n",
      "[LightGBM] [Info] Start training from score -2.332724\n",
      "[LightGBM] [Info] Start training from score -2.455911\n",
      "[LightGBM] [Info] Start training from score -2.371964\n",
      "[LightGBM] [Info] Start training from score -2.125375\n",
      "[LightGBM] [Info] Start training from score -3.105451\n",
      "[LightGBM] [Info] Start training from score -2.647187\n",
      "[LightGBM] [Info] Start training from score -1.900876\n",
      "[LightGBM] [Info] Start training from score -1.875317\n",
      "                               Accuracy  Balanced Accuracy ROC AUC  F1 Score  \\\n",
      "Model                                                                          \n",
      "RandomForestClassifier             0.53               0.46    None      0.52   \n",
      "ExtraTreesClassifier               0.52               0.45    None      0.51   \n",
      "BaggingClassifier                  0.49               0.43    None      0.49   \n",
      "LGBMClassifier                     0.49               0.43    None      0.49   \n",
      "LabelSpreading                     0.45               0.39    None      0.45   \n",
      "LabelPropagation                   0.45               0.39    None      0.45   \n",
      "DecisionTreeClassifier             0.44               0.38    None      0.44   \n",
      "ExtraTreeClassifier                0.43               0.38    None      0.43   \n",
      "KNeighborsClassifier               0.38               0.33    None      0.38   \n",
      "SVC                                0.37               0.31    None      0.35   \n",
      "LogisticRegression                 0.28               0.23    None      0.26   \n",
      "CalibratedClassifierCV             0.27               0.23    None      0.26   \n",
      "LinearDiscriminantAnalysis         0.26               0.22    None      0.26   \n",
      "LinearSVC                          0.27               0.21    None      0.23   \n",
      "RidgeClassifier                    0.26               0.20    None      0.22   \n",
      "RidgeClassifierCV                  0.26               0.20    None      0.22   \n",
      "NearestCentroid                    0.21               0.20    None      0.20   \n",
      "QuadraticDiscriminantAnalysis      0.19               0.19    None      0.19   \n",
      "BernoulliNB                        0.20               0.18    None      0.16   \n",
      "PassiveAggressiveClassifier        0.20               0.18    None      0.19   \n",
      "AdaBoostClassifier                 0.23               0.18    None      0.18   \n",
      "SGDClassifier                      0.20               0.17    None      0.19   \n",
      "Perceptron                         0.17               0.16    None      0.17   \n",
      "GaussianNB                         0.14               0.15    None      0.12   \n",
      "DummyClassifier                    0.15               0.10    None      0.04   \n",
      "\n",
      "                               Time Taken  \n",
      "Model                                      \n",
      "RandomForestClassifier              12.06  \n",
      "ExtraTreesClassifier                 3.24  \n",
      "BaggingClassifier                    8.29  \n",
      "LGBMClassifier                       8.06  \n",
      "LabelSpreading                      19.38  \n",
      "LabelPropagation                    14.41  \n",
      "DecisionTreeClassifier               1.28  \n",
      "ExtraTreeClassifier                  0.07  \n",
      "KNeighborsClassifier                 0.21  \n",
      "SVC                                 33.91  \n",
      "LogisticRegression                   0.33  \n",
      "CalibratedClassifierCV              15.31  \n",
      "LinearDiscriminantAnalysis           0.09  \n",
      "LinearSVC                            4.09  \n",
      "RidgeClassifier                      0.04  \n",
      "RidgeClassifierCV                    0.06  \n",
      "NearestCentroid                      0.03  \n",
      "QuadraticDiscriminantAnalysis        0.08  \n",
      "BernoulliNB                          0.08  \n",
      "PassiveAggressiveClassifier          0.27  \n",
      "AdaBoostClassifier                   4.97  \n",
      "SGDClassifier                        0.78  \n",
      "Perceptron                           0.18  \n",
      "GaussianNB                           0.05  \n",
      "DummyClassifier                      0.03  \n"
     ]
    }
   ],
   "source": [
    "from lazypredict.Supervised import LazyClassifier\n",
    "\n",
    "clf = LazyClassifier(verbose=0, ignore_warnings=True, custom_metric=None)\n",
    "models, predictions = clf.fit(X_train, X_test, y_train, y_test) # without resampling\n",
    "# models, predictions = clf.fit(X_resampled, X_test, y_resampled, y_test) # with resampling\n",
    "\n",
    "print(models)"
   ]
  },
  {
   "cell_type": "markdown",
   "id": "7defcfb8",
   "metadata": {},
   "source": [
    "# Only Machine Learning, No Deep Learning"
   ]
  },
  {
   "cell_type": "code",
   "execution_count": 19,
   "id": "f0c0f7b3",
   "metadata": {},
   "outputs": [],
   "source": [
    "# for ploting confusion matrix\n",
    "from sklearn.metrics import confusion_matrix\n",
    "import seaborn as sns\n",
    "import matplotlib.pyplot as plt\n",
    "import numpy as np\n",
    "\n",
    "\n",
    "def plot_confusion_matrix(y_predict):\n",
    "    # compute confusion matrix\n",
    "    labels = np.unique(y_test)\n",
    "    cm = confusion_matrix(y_test, y_predict)\n",
    "    # Plot with seaborn\n",
    "    plt.figure(figsize=(6, 4))\n",
    "    sns.heatmap(cm, annot=True, fmt='d', cmap='Blues', xticklabels=labels, yticklabels=labels)\n",
    "    plt.xlabel('Predicted')\n",
    "    plt.ylabel('Actual')\n",
    "    plt.title('Confusion Matrix')\n",
    "    plt.show()"
   ]
  },
  {
   "cell_type": "markdown",
   "id": "e39e6e38",
   "metadata": {},
   "source": [
    "## RandomForest"
   ]
  },
  {
   "cell_type": "code",
   "execution_count": 27,
   "id": "ef751dd4",
   "metadata": {},
   "outputs": [
    {
     "name": "stdout",
     "output_type": "stream",
     "text": [
      "              precision    recall  f1-score   support\n",
      "\n",
      "        2806       0.55      0.40      0.46       708\n",
      "        2807       0.50      0.51      0.51      1066\n",
      "        2808       0.43      0.37      0.40       925\n",
      "        2809       0.28      0.30      0.29       817\n",
      "        2810       0.47      0.45      0.46       888\n",
      "        2811       0.51      0.61      0.55      1138\n",
      "        2812       0.02      0.02      0.02       426\n",
      "        2813       0.51      0.45      0.48       675\n",
      "        2814       0.69      0.78      0.73      1424\n",
      "        2815       0.76      0.78      0.77      1461\n",
      "\n",
      "    accuracy                           0.53      9528\n",
      "   macro avg       0.47      0.47      0.47      9528\n",
      "weighted avg       0.53      0.53      0.53      9528\n",
      "\n"
     ]
    },
    {
     "data": {
      "image/png": "[encoded data removed]",
      "text/plain": [
       "<Figure size 600x400 with 2 Axes>"
      ]
     },
     "metadata": {},
     "output_type": "display_data"
    }
   ],
   "source": [
    "from sklearn.ensemble import RandomForestClassifier\n",
    "rfc = RandomForestClassifier(n_estimators=500, n_jobs=-1)\n",
    "# rfc.fit(X_resampled, y_resampled)\n",
    "rfc.fit(X_train, y_train)\n",
    "from sklearn.metrics import classification_report\n",
    "y_predict = rfc.predict(X_test)\n",
    "print(classification_report(y_test, y_predict))\n",
    "plot_confusion_matrix(y_predict)\n",
    "### NOTE: without over sampling random forest performs better ###"
   ]
  },
  {
   "cell_type": "markdown",
   "id": "aa0927f9",
   "metadata": {},
   "source": [
    "## Save the model"
   ]
  },
  {
   "cell_type": "code",
   "execution_count": 59,
   "id": "38b96066",
   "metadata": {},
   "outputs": [
    {
     "data": {
      "text/plain": [
       "['saved_models/random_forest_model_20250527_15.joblib']"
      ]
     },
     "execution_count": 59,
     "metadata": {},
     "output_type": "execute_result"
    }
   ],
   "source": [
    "# save random forest model\n",
    "import joblib\n",
    "import os\n",
    "\n",
    "model_dir = \"saved_models\"\n",
    "os.makedirs(model_dir, exist_ok=True) # base dir to save model\n",
    "\n",
    "def save_model(model, model_name):\n",
    "    \"\"\"Save the model to a file.\"\"\"\n",
    "    joblib.dump(model, model_name)\n",
    "    print(f\"Model saved to {model_name}\")\n",
    "\n",
    "\n",
    "model_name = os.path.join(model_dir, f\"random_forest_model_{pd.Timestamp.now().strftime('%Y%m%d_%H')}.joblib\") # path to model name\n",
    "save_model(rfc, model_name)"
   ]
  },
  {
   "cell_type": "code",
   "execution_count": 61,
   "id": "d0fc3967",
   "metadata": {},
   "outputs": [],
   "source": [
    "# load the model\n",
    "rfc_saved_model = joblib.load('/Users/tptn/MachineLearning/tremor_challenge2/scripts/saved_models/random_forest_model_20250527_15.joblib')"
   ]
  },
  {
   "cell_type": "markdown",
   "id": "bb60071a",
   "metadata": {},
   "source": [
    "## ExtraTreesClassifier"
   ]
  },
  {
   "cell_type": "code",
   "execution_count": null,
   "id": "e6b04023",
   "metadata": {},
   "outputs": [],
   "source": [
    "from sklearn.ensemble import ExtraTreesClassifier\n",
    "from sklearn.metrics import classification_report\n",
    "etc = ExtraTreesClassifier(n_estimators=500, n_jobs=-1)\n",
    "etc.fit(X_resampled, y_resampled)\n",
    "y_predict = etc.predict(X_test)\n",
    "print(classification_report(y_test, y_predict))\n",
    "plot_confusion_matrix(y_predict)\n",
    "# ExtraTrees and RandomForest perform similarly"
   ]
  },
  {
   "cell_type": "markdown",
   "id": "98914da5",
   "metadata": {},
   "source": [
    "# Conclusion\n",
    "\n",
    "In conclusion, the model performance does not change much: \n",
    "- While increasing the amount of features -> chosen features not effective.\n",
    "- While decreasing the window size. However, there is STILL a slightly increase in performance .\n",
    "On the other hand, the model performance change:\n",
    "- While over sampling not applied, the model performance increased, and vice versa.\n",
    "\n",
    "In comparison with other machine learning methods:\n",
    "- Extra Trees and Random Forest have similarity in performance.\n",
    "- While Label Spreading is not as good as the above algorithms."
   ]
  },
  {
   "cell_type": "markdown",
   "id": "2fb72144",
   "metadata": {},
   "source": [
    "# Predict on testing set"
   ]
  },
  {
   "cell_type": "code",
   "execution_count": 85,
   "id": "24202d2f",
   "metadata": {},
   "outputs": [],
   "source": [
    "test_df = read_act_df('../data/TestingDataMay27/TestActivities-20240920.csv')\n",
    "processed_test_df = preprocess_activity_label_df(test_df, is_test_set=True)\n",
    "seg_list_test, seg_id_list_test, seg_label_list_test = seg_acceleration_df_per_activity(processed_users_df, processed_test_df, seg_test_set=True)\n",
    "test_features_df = segment_all(seg_list_test, seg_id_list_test, seg_label_list_test, seg_test_set=True)"
   ]
  },
  {
   "cell_type": "code",
   "execution_count": 67,
   "id": "e354df82",
   "metadata": {},
   "outputs": [
    {
     "data": {
      "image/png": "[encoded data removed]",
      "text/plain": [
       "<Figure size 1000x600 with 1 Axes>"
      ]
     },
     "metadata": {},
     "output_type": "display_data"
    }
   ],
   "source": [
    "#load random forest model\n",
    "rfc_saved_model = joblib.load('/Users/tptn/MachineLearning/tremor_challenge2/scripts/saved_models/random_forest_model_20250527_15.joblib')\n",
    "# predict on test set\n",
    "y_test_predict = rfc_saved_model.predict(test_features_df.values)\n",
    "\n",
    "import matplotlib.pyplot as plt\n",
    "import pandas as pd\n",
    "\n",
    "predicted_labels = y_test_predict\n",
    "\n",
    "# Count label occurrences\n",
    "label_counts = pd.Series(predicted_labels).value_counts().sort_index(ascending=True)\n",
    "\n",
    "# Plot\n",
    "plt.figure(figsize=(10, 6))\n",
    "label_counts.plot(kind='bar', color='coral')\n",
    "plt.title(\"Predicted Activity Label Counts\")\n",
    "plt.xlabel(\"Activity\")\n",
    "plt.ylabel(\"Count\")\n",
    "plt.xticks(rotation=45, ha='right')\n",
    "plt.grid(axis='y', linestyle='--', alpha=0.6)\n",
    "plt.tight_layout()\n",
    "plt.show()"
   ]
  },
  {
   "cell_type": "code",
   "execution_count": null,
   "id": "722f8ed5",
   "metadata": {},
   "outputs": [],
   "source": [
    "import pandas as pd\n",
    "\n",
    "label_map = {\n",
    "    2806: '1 (FACING camera) Sit and stand',\n",
    "    2807: '2 (FACING camera) both hands SHAKING (sitting position)',\n",
    "    2808: '3 Stand up from chair - both hands with SHAKING',\n",
    "    2809: '4 (Sideway) Sit & stand',\n",
    "    2810: '5 (Sideway) both hands SHAKING (sitting)',\n",
    "    2811: '6 (Sideway) STAND up with - both hands SHAKING',\n",
    "    2812: '7 Cool down - sitting/relax',\n",
    "    2813: '8 Walk (LEFT --> Right --> Left)',\n",
    "    2814: '9 Walk & STOP/frozen, full body shaking, rotate then return back',\n",
    "    2815: '10 Slow walk (SHAKING hands/body, tiny step, head forward)'\n",
    "}\n",
    "\n",
    "mapped_labels = [label_map[pred] for pred in y_test_predict]\n",
    "\n",
    "result_df = pd.DataFrame({\n",
    "    'ID': seg_id_list_test,\n",
    "    'Output': mapped_labels\n",
    "})\n",
    "\n",
    "original_test_df = pd.read_csv('../data/TestingDataMay27/TestActivities-20240920.csv')\n",
    "merged_df = pd.merge(original_test_df, result_df, on='ID', how='left')\n",
    "\n",
    "# Step 4: Save to CSV\n",
    "out_dir = os.makedirs('output', exist_ok=True)\n",
    "out_file_path = os.path.join(out_dir, 'submission.csv')\n",
    "merged_df.to_csv(out_file_path, index=False)"
   ]
  }
 ],
 "metadata": {
  "kernelspec": {
   "display_name": "tremor_challenge2",
   "language": "python",
   "name": "python3"
  },
  "language_info": {
   "codemirror_mode": {
    "name": "ipython",
    "version": 3
   },
   "file_extension": ".py",
   "mimetype": "text/x-python",
   "name": "python",
   "nbconvert_exporter": "python",
   "pygments_lexer": "ipython3",
   "version": "3.12.8"
  }
 },
 "nbformat": 4,
 "nbformat_minor": 5
}
